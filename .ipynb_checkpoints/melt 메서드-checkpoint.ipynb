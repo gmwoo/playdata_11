{
 "cells": [
  {
   "cell_type": "markdown",
   "id": "600eab0c",
   "metadata": {},
   "source": [
    "## melt 메서드\n",
    "### 1. 1개의 열만 고정하고 나머지 열을 행으로 바꾸기\n",
    "* 퓨 리서치 센터에서 조가한 '미국의 소득과 종교' 데이터\n",
    "* 데이터 프레임의 열은 열자체가 어떤 값(<10K10-20k ..know/refused )의미\n",
    "* 데이터프레임의 열이 옆으로 길게 늘어선 형태"
   ]
  },
  {
   "cell_type": "code",
   "execution_count": null,
   "id": "f767b92b",
   "metadata": {},
   "outputs": [],
   "source": [
    "import pandas as pd\n",
    "pew = pd.read_csv('../data/pew.csv')\n",
    "pew.head()"
   ]
  },
  {
   "cell_type": "markdown",
   "id": "34d57fa9",
   "metadata": {},
   "source": [
    "## melt메서드 인자\n",
    "* id_vars: 위치를 그대로 유지할 열의 이름을 지정\n",
    "* value_vars: 행으로 위치를 변경할 열의 이름을 지정\n",
    "* var_name: value_vars로 위치를 변경할 열의 이름을 지정\n",
    "* var_name으로 위치를 변경할 열의 데이터를 저장할 열의 이름을 지정"
   ]
  },
  {
   "cell_type": "code",
   "execution_count": null,
   "id": "2efb6e22",
   "metadata": {},
   "outputs": [],
   "source": [
    "print(pew.iloc[:,0:6])"
   ]
  },
  {
   "cell_type": "code",
   "execution_count": null,
   "id": "30e8cca1",
   "metadata": {},
   "outputs": [],
   "source": [
    "#religion 열을 고정하여 피벗했다.\n",
    "pew_long=pd.melt(pew, id_vars='religion')\n",
    "print(pew_long.head())\n",
    "print(pew_long.tail())"
   ]
  },
  {
   "cell_type": "code",
   "execution_count": null,
   "id": "bd609e93",
   "metadata": {},
   "outputs": [],
   "source": [
    "pew_long=pd.melt(pew, id_vars='religion', var_name='income',\n",
    "                 value_name='count')\n",
    "pew_long.head()"
   ]
  },
  {
   "cell_type": "code",
   "execution_count": null,
   "id": "e467a5c0",
   "metadata": {},
   "outputs": [],
   "source": [
    "## 2개 이상의 열을 고정하고 나머지 열을 행으로 바꾸기"
   ]
  },
  {
   "cell_type": "code",
   "execution_count": null,
   "id": "7f7c3eae",
   "metadata": {
    "scrolled": true
   },
   "outputs": [],
   "source": [
    "billboard =pd.read_csv('../data/billboard.csv')\n",
    "billboard.iloc[0:5, 0:16]"
   ]
  },
  {
   "cell_type": "code",
   "execution_count": null,
   "id": "bfe667b3",
   "metadata": {},
   "outputs": [],
   "source": [
    "billboard_long=pd.melt(billboard, \n",
    "                       id_vars=['year', 'artist', 'track', 'time', 'date.entered'], \n",
    "                       var_name='week', value_name='rating')\n",
    "billboard_long.head()"
   ]
  },
  {
   "cell_type": "markdown",
   "id": "f0734c9b",
   "metadata": {},
   "source": [
    "# ebola 데이터 집합 살펴보기"
   ]
  },
  {
   "cell_type": "code",
   "execution_count": null,
   "id": "9b205b04",
   "metadata": {},
   "outputs": [],
   "source": [
    "#Cases_Guinea : 발병국가, Cases_guinea : 발병국가, Cases_Guinea : 사망자 수, 나라 이름-열\n",
    "ebola=pd.read_csv('../data/country_timeseries.csv')\n",
    "print(ebola.columns)"
   ]
  },
  {
   "cell_type": "code",
   "execution_count": null,
   "id": "23daad81",
   "metadata": {},
   "outputs": [],
   "source": [
    "ebola.iloc[:5, [0, 1, 2, 3, 10, 11]]"
   ]
  },
  {
   "cell_type": "code",
   "execution_count": null,
   "id": "541c8781",
   "metadata": {},
   "outputs": [],
   "source": [
    "ebola_iong=pd.melt(ebola, id_vars=['Date', 'Day'])\n",
    "ebola_iong.head()"
   ]
  },
  {
   "cell_type": "code",
   "execution_count": null,
   "id": "d235083e",
   "metadata": {},
   "outputs": [],
   "source": [
    "## 열 이름 분리하고 데이터 프레임에 추가하기"
   ]
  },
  {
   "cell_type": "code",
   "execution_count": null,
   "id": "3103feef",
   "metadata": {},
   "outputs": [],
   "source": [
    "#split 메서드에 '_'를 전달 Cases, Guinea로 분리\n",
    "variable_split = ebola_iong.variable.str.split('_')\n",
    "print(variable_split[:5])"
   ]
  },
  {
   "cell_type": "code",
   "execution_count": null,
   "id": "9d8d65ea",
   "metadata": {},
   "outputs": [],
   "source": [
    "print(type(variable_split))"
   ]
  },
  {
   "cell_type": "code",
   "execution_count": null,
   "id": "dbf9e299",
   "metadata": {},
   "outputs": [],
   "source": [
    "print(type(variable_split[0]))"
   ]
  },
  {
   "cell_type": "code",
   "execution_count": null,
   "id": "8b596778",
   "metadata": {},
   "outputs": [],
   "source": [
    "#get메서드를 사용하여 0,1번째 인덱스의 데이터를 추출\n",
    "status_values = variable_split.str.get(0)\n",
    "country_values = variable_split.str.get(1)\n",
    "print(status_values[:5])"
   ]
  },
  {
   "cell_type": "code",
   "execution_count": null,
   "id": "08b1a917",
   "metadata": {},
   "outputs": [],
   "source": [
    "print(status_values[-5:])"
   ]
  },
  {
   "cell_type": "code",
   "execution_count": null,
   "id": "f79b10aa",
   "metadata": {},
   "outputs": [],
   "source": [
    "print(country_values[:5])"
   ]
  },
  {
   "cell_type": "code",
   "execution_count": null,
   "id": "71be456c",
   "metadata": {},
   "outputs": [],
   "source": [
    "print(country_values[-5:])"
   ]
  },
  {
   "cell_type": "code",
   "execution_count": null,
   "id": "d10d8a1e",
   "metadata": {},
   "outputs": [],
   "source": [
    "ebola_iong['status'] = status_values\n",
    "ebola_iong['country'] = country_values\n",
    "ebola_iong.head()"
   ]
  },
  {
   "cell_type": "markdown",
   "id": "47d10f39",
   "metadata": {},
   "source": [
    "# concat 메서드를 응용하여 데이터 프레임에 열 추가하기"
   ]
  },
  {
   "cell_type": "code",
   "execution_count": null,
   "id": "f1ae29af",
   "metadata": {},
   "outputs": [],
   "source": [
    "#concat 메서드를 활용하면 split메서드로 분리한 데이터를 바로 df에 추가\n",
    "#분할된 개별 리스트를 바로 df로 만드려면 expand=True 옵션을 추가\n",
    "variable_split = ebola_iong.variable.str.split('_', expand=True)\n",
    "variable_split.columns = ['status', 'country']\n",
    "ebola_parsed = pd.concat([ebola_iong, variable_split], axis=1)\n",
    "\n",
    "ebola_parsed.head()"
   ]
  },
  {
   "cell_type": "markdown",
   "id": "04b6fb83",
   "metadata": {},
   "source": [
    "# 기상 데이터의 여러 열을 하나로 정리 - melt, pivot_table 메서드"
   ]
  },
  {
   "cell_type": "code",
   "execution_count": null,
   "id": "c2cd74c0",
   "metadata": {},
   "outputs": [],
   "source": [
    "weather = pd.read_csv('../../data/weather.csv')\n",
    "print(weather.iloc[:5, :11])"
   ]
  },
  {
   "cell_type": "code",
   "execution_count": null,
   "id": "24d8df23",
   "metadata": {},
   "outputs": [],
   "source": []
  },
  {
   "cell_type": "code",
   "execution_count": null,
   "id": "bc3c40bc",
   "metadata": {},
   "outputs": [],
   "source": []
  },
  {
   "cell_type": "code",
   "execution_count": null,
   "id": "9a750746",
   "metadata": {},
   "outputs": [],
   "source": []
  },
  {
   "cell_type": "code",
   "execution_count": null,
   "id": "b62c9933",
   "metadata": {},
   "outputs": [],
   "source": []
  },
  {
   "cell_type": "code",
   "execution_count": null,
   "id": "d879a461",
   "metadata": {},
   "outputs": [],
   "source": []
  },
  {
   "cell_type": "code",
   "execution_count": null,
   "id": "39cdffea",
   "metadata": {},
   "outputs": [],
   "source": []
  },
  {
   "cell_type": "code",
   "execution_count": null,
   "id": "c37916b6",
   "metadata": {},
   "outputs": [],
   "source": []
  }
 ],
 "metadata": {
  "kernelspec": {
   "display_name": "Python 3 (ipykernel)",
   "language": "python",
   "name": "python3"
  },
  "language_info": {
   "codemirror_mode": {
    "name": "ipython",
    "version": 3
   },
   "file_extension": ".py",
   "mimetype": "text/x-python",
   "name": "python",
   "nbconvert_exporter": "python",
   "pygments_lexer": "ipython3",
   "version": "3.10.9"
  }
 },
 "nbformat": 4,
 "nbformat_minor": 5
}
